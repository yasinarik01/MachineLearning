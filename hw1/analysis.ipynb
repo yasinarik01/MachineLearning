{
 "cells": [
  {
   "cell_type": "code",
   "execution_count": null,
   "id": "d09e2276",
   "metadata": {},
   "outputs": [],
   "source": [
    "# Import the libraries\n",
    "import numpy as np\n",
    "import pandas as pd\n",
    "import matplotlib.pyplot as plt\n",
    "import seaborn as sns\n",
    "from sklearn.model_selection import train_test_split\n",
    "from sklearn.preprocessing import StandardScaler\n",
    "from sklearn.metrics import accuracy_score, confusion_matrix, classification_report\n",
    "from collections import Counter"
   ]
  },
  {
   "cell_type": "code",
   "execution_count": null,
   "id": "c1207d15",
   "metadata": {},
   "outputs": [],
   "source": [
    "# Load the Wine dataset using the function in pandas\n",
    "file_path = \"C:/Users/Asus/Desktop/wine.data\"\n",
    "columns = [\n",
    "    'Class', 'Alcohol', 'Malic_acid', 'Ash', 'Alcalinity_of_ash', 'Magnesium',\n",
    "    'Total_phenols', 'Flavanoids', 'Nonflavanoid_phenols', 'Proanthocyanins',\n",
    "    'Color_intensity', 'Hue', 'OD280/OD315_of_diluted_wines', 'Proline'\n",
    "]"
   ]
  },
  {
   "cell_type": "code",
   "execution_count": null,
   "id": "c31063fc",
   "metadata": {},
   "outputs": [],
   "source": [
    "df = pd.read_csv(file_path, header=None, names=columns)"
   ]
  },
  {
   "cell_type": "code",
   "execution_count": null,
   "id": "ec818e8d",
   "metadata": {},
   "outputs": [],
   "source": [
    "# Separate features and target labels\n",
    "X = df.iloc[:, 1:].values  # Feature matrix\n",
    "y = df.iloc[:, 0].values   # Class labels"
   ]
  },
  {
   "cell_type": "code",
   "execution_count": null,
   "id": "3380597a",
   "metadata": {},
   "outputs": [],
   "source": [
    "# Standardize the features\n",
    "scaler = StandardScaler()\n",
    "X = scaler.fit_transform(X)"
   ]
  },
  {
   "cell_type": "code",
   "execution_count": null,
   "id": "717cabdc",
   "metadata": {
    "lines_to_next_cell": 1
   },
   "outputs": [],
   "source": [
    "# Split the dataset into training and testing sets\n",
    "# Random state is specified in fixed number. If it is 20, the numbers are considered differently\n",
    "X_train, X_test, y_train, y_test = train_test_split(X, y, test_size=0.2, random_state=50)"
   ]
  },
  {
   "cell_type": "code",
   "execution_count": null,
   "id": "36df9b83",
   "metadata": {
    "lines_to_next_cell": 1
   },
   "outputs": [],
   "source": [
    "# Define Euclidean and Manhattan distance functions\n",
    "def euclidean_distance(x1, x2):\n",
    "    return np.sqrt(np.sum((x1 - x2) ** 2))"
   ]
  },
  {
   "cell_type": "code",
   "execution_count": null,
   "id": "db621db1",
   "metadata": {
    "lines_to_next_cell": 1
   },
   "outputs": [],
   "source": [
    "def manhattan_distance(x1, x2):\n",
    "    return np.sum(np.abs(x1 - x2))"
   ]
  },
  {
   "cell_type": "code",
   "execution_count": null,
   "id": "ab181afc",
   "metadata": {
    "lines_to_next_cell": 1
   },
   "outputs": [],
   "source": [
    "# Implement k-NN classifier\n",
    "def knn(X_train, y_train, X_test, k, distance_metric='euclidean'):\n",
    "    predictions = []\n",
    "    for test_point in X_test:\n",
    "        if distance_metric == 'euclidean':\n",
    "            distances = [euclidean_distance(test_point, train_point) for train_point in X_train]\n",
    "        else:\n",
    "            distances = [manhattan_distance(test_point, train_point) for train_point in X_train]\n",
    "        \n",
    "        # Get k nearest neighbors\n",
    "        sorted_indices = np.argsort(distances)[:k]\n",
    "        nearest_labels = y_train[sorted_indices]\n",
    "        \n",
    "        # Predict the most common class\n",
    "        predicted_label = Counter(nearest_labels).most_common(1)[0][0]\n",
    "        predictions.append(predicted_label)\n",
    "    \n",
    "    return np.array(predictions)"
   ]
  },
  {
   "cell_type": "code",
   "execution_count": null,
   "id": "f619aa0b",
   "metadata": {},
   "outputs": [],
   "source": [
    "# Evaluate the model for different k values\n",
    "k_values = [1, 3, 5, 7, 9,11,13,15,17,19,21,23,25,27,29]\n",
    "accuracies_euclidean = []\n",
    "accuracies_manhattan = []"
   ]
  },
  {
   "cell_type": "code",
   "execution_count": null,
   "id": "64299c93",
   "metadata": {},
   "outputs": [],
   "source": [
    "results_euclidean = []\n",
    "results_manhattan = []"
   ]
  },
  {
   "cell_type": "code",
   "execution_count": null,
   "id": "944db0c8",
   "metadata": {},
   "outputs": [],
   "source": [
    "for k in k_values:\n",
    "    y_pred_euc = knn(X_train, y_train, X_test, k, distance_metric='euclidean')\n",
    "    y_pred_man = knn(X_train, y_train, X_test, k, distance_metric='manhattan')\n",
    "    \n",
    "    acc_euc = accuracy_score(y_test, y_pred_euc)\n",
    "    acc_man = accuracy_score(y_test, y_pred_man)\n",
    "    \n",
    "    accuracies_euclidean.append(acc_euc)\n",
    "    accuracies_manhattan.append(acc_man)\n",
    "    \n",
    "    results_euclidean.append([k, acc_euc])\n",
    "    results_manhattan.append([k, acc_man])"
   ]
  },
  {
   "cell_type": "code",
   "execution_count": null,
   "id": "cf26f503",
   "metadata": {},
   "outputs": [],
   "source": [
    "# Display results in tabular format\n",
    "print(\"\\nEuclidean Distance Results:\")\n",
    "print(pd.DataFrame(results_euclidean, columns=[\"K Value\", \"Accuracy\"]))"
   ]
  },
  {
   "cell_type": "code",
   "execution_count": null,
   "id": "51ca9c30",
   "metadata": {},
   "outputs": [],
   "source": [
    "print(\"\\nManhattan Distance Results:\")\n",
    "print(pd.DataFrame(results_manhattan, columns=[\"K Value\", \"Accuracy\"]))"
   ]
  },
  {
   "cell_type": "code",
   "execution_count": null,
   "id": "a4a5a4a9",
   "metadata": {},
   "outputs": [],
   "source": [
    "# Plot accuracy vs. k values\n",
    "plt.figure(figsize=(8, 5))\n",
    "plt.plot(k_values, accuracies_euclidean, marker='o', label='Euclidean')\n",
    "plt.xlabel(\"K Value\")\n",
    "plt.ylabel(\"Accuracy\")\n",
    "plt.title(\"Euclidean Distance: Model Performance vs. K Value\")\n",
    "plt.legend()\n",
    "plt.grid()\n",
    "plt.show()"
   ]
  },
  {
   "cell_type": "code",
   "execution_count": null,
   "id": "8447b3c4",
   "metadata": {},
   "outputs": [],
   "source": [
    "plt.figure(figsize=(8, 5))\n",
    "plt.plot(k_values, accuracies_manhattan, marker='s', label='Manhattan')\n",
    "plt.xlabel(\"K Value\")\n",
    "plt.ylabel(\"Accuracy\")\n",
    "plt.title(\"Manhattan Distance: Model Performance vs. K Value\")\n",
    "plt.legend()\n",
    "plt.grid()\n",
    "plt.show()"
   ]
  },
  {
   "cell_type": "code",
   "execution_count": null,
   "id": "ea7201b8",
   "metadata": {},
   "outputs": [],
   "source": [
    "# Determine the best k value\n",
    "best_k = k_values[np.argmax(accuracies_euclidean)]"
   ]
  },
  {
   "cell_type": "code",
   "execution_count": null,
   "id": "375a758e",
   "metadata": {},
   "outputs": [],
   "source": [
    "# Generate confusion matrix and classification report for the best k\n",
    "final_predictions = knn(X_train, y_train, X_test, best_k, distance_metric='euclidean')\n",
    "print(f\"Best K value: {best_k}\")\n",
    "print(confusion_matrix(y_test, final_predictions))\n",
    "print(classification_report(y_test, final_predictions))"
   ]
  },
  {
   "cell_type": "code",
   "execution_count": null,
   "id": "dbce8c2d",
   "metadata": {},
   "outputs": [],
   "source": [
    "column_names = [\n",
    "    \"Class\", \"Alcohol\", \"Malic_acid\", \"Ash\", \"Alcalinity_of_ash\", \"Magnesium\",\n",
    "    \"Total_phenols\", \"Flavanoids\", \"Nonflavanoid_phenols\", \"Proanthocyanins\",\n",
    "    \"Color_intensity\", \"Hue\", \"OD280/OD315_of_diluted_wines\", \"Proline\"\n",
    "]"
   ]
  },
  {
   "cell_type": "code",
   "execution_count": null,
   "id": "98d9bbce",
   "metadata": {},
   "outputs": [],
   "source": [
    "df = pd.read_csv(file_path, header=None, names=column_names)"
   ]
  },
  {
   "cell_type": "code",
   "execution_count": null,
   "id": "cd55e58c",
   "metadata": {},
   "outputs": [],
   "source": [
    "plt.figure(figsize=(15, 5))"
   ]
  },
  {
   "cell_type": "code",
   "execution_count": null,
   "id": "fa0f85f0",
   "metadata": {},
   "outputs": [],
   "source": [
    "plt.subplot(1, 3, 1)\n",
    "sns.histplot(df[\"Alcohol\"], bins=20, kde=True, color=\"green\")\n",
    "plt.title(\"Alcohol Distribution\")"
   ]
  },
  {
   "cell_type": "code",
   "execution_count": null,
   "id": "6c0d61f1",
   "metadata": {},
   "outputs": [],
   "source": [
    "plt.subplot(1, 3, 2)\n",
    "sns.histplot(df[\"Color_intensity\"], bins=20, kde=True, color=\"blue\")\n",
    "plt.title(\"Color Intensity Distribution\")"
   ]
  },
  {
   "cell_type": "code",
   "execution_count": null,
   "id": "f415411c",
   "metadata": {},
   "outputs": [],
   "source": [
    "plt.subplot(1, 3, 3)\n",
    "sns.histplot(df[\"Proline\"], bins=20, kde=True, color=\"red\")\n",
    "plt.title(\"Proline Distribution\")"
   ]
  },
  {
   "cell_type": "code",
   "execution_count": null,
   "id": "3dc7c091",
   "metadata": {},
   "outputs": [],
   "source": [
    "plt.tight_layout()\n",
    "plt.show()"
   ]
  },
  {
   "cell_type": "code",
   "execution_count": null,
   "id": "9ea84fae",
   "metadata": {},
   "outputs": [],
   "source": [
    "# Scatter Plot \n",
    "plt.figure(figsize=(8, 6))\n",
    "sns.scatterplot(data=df, x=\"Alcohol\", y=\"Color_intensity\", hue=\"Class\", palette=\"viridis\")\n",
    "plt.title(\"Alcohol and Color Intensity Relation\")\n",
    "plt.show()"
   ]
  },
  {
   "cell_type": "code",
   "execution_count": null,
   "id": "bfab17e4",
   "metadata": {},
   "outputs": [],
   "source": [
    "plt.figure(figsize=(8, 6))\n",
    "sns.scatterplot(data=df, x=\"Alcohol\", y=\"Proline\", hue=\"Class\", palette=\"coolwarm\")\n",
    "plt.title(\"Alcohol ve Proline Relation\")\n",
    "plt.show()"
   ]
  },
  {
   "cell_type": "code",
   "execution_count": null,
   "id": "a00538c3",
   "metadata": {},
   "outputs": [],
   "source": [
    "plt.figure(figsize=(8, 6))\n",
    "sns.scatterplot(data=df, x=\"Color_intensity\", y=\"Proline\", hue=\"Class\", palette=\"coolwarm\")\n",
    "plt.title(\"Color Intensity ve Proline Relation\")\n",
    "plt.show()"
   ]
  }
 ],
 "metadata": {
  "jupytext": {
   "cell_metadata_filter": "-all",
   "main_language": "python",
   "notebook_metadata_filter": "-all"
  }
 },
 "nbformat": 4,
 "nbformat_minor": 5
}
